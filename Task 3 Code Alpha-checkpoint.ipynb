{
 "cells": [
  {
   "cell_type": "code",
   "execution_count": 1,
   "id": "1e2b9162-12f9-4a84-b7a7-391c4b47ea89",
   "metadata": {},
   "outputs": [
    {
     "name": "stdout",
     "output_type": "stream",
     "text": [
      "Disease Prediction Model\n",
      "========================================\n",
      "Accuracy: 1.0\n",
      "Classification Report:\n",
      "               precision    recall  f1-score   support\n",
      "\n",
      "           0       1.00      1.00      1.00         2\n",
      "           1       1.00      1.00      1.00         2\n",
      "\n",
      "    accuracy                           1.00         4\n",
      "   macro avg       1.00      1.00      1.00         4\n",
      "weighted avg       1.00      1.00      1.00         4\n",
      "\n"
     ]
    }
   ],
   "source": [
    "import numpy as np\n",
    "import pandas as pd\n",
    "from sklearn.model_selection import train_test_split\n",
    "from sklearn.ensemble import RandomForestClassifier\n",
    "from sklearn.metrics import accuracy_score, classification_report\n",
    "print ('Disease Prediction Model')\n",
    "print ('='*40)\n",
    "# 1. Create a very simple synthetic medical dataset\n",
    "# Features: Fever (0/1), Cough (0/1), Fatigue (0/1), Age\n",
    "# Target: Disease (0 = No, 1 = Yes)\n",
    "data = {\n",
    "    'Fever':    [1,0,1,0,1,1,0,0,1,0,1,0,1,0,0,1,0,0,1,0],\n",
    "    'Cough':    [1,1,0,0,1,1,1,0,0,0,1,1,0,0,1,0,1,0,1,0],\n",
    "    'Fatigue':  [0,1,1,0,1,1,0,0,1,0,1,0,0,1,0,1,1,0,1,0],\n",
    "    'Age':      [25,34,22,45,36,50,28,40,23,33,47,38,29,41,27,44,30,35,26,32],\n",
    "    'Disease':  [1,0,1,0,1,1,0,0,1,0,1,0,0,0,0,1,0,0,1,0]\n",
    "}\n",
    "\n",
    "df = pd.DataFrame(data)\n",
    "\n",
    "# 2. Separate features and target\n",
    "X = df.drop('Disease', axis=1)\n",
    "y = df['Disease']\n",
    "\n",
    "# 3. Split dataset\n",
    "X_train, X_test, y_train, y_test = train_test_split(X, y, \n",
    "                                                    test_size=0.2, \n",
    "                                                    random_state=42)\n",
    "\n",
    "# 4. Train RandomForestClassifier\n",
    "model = RandomForestClassifier(n_estimators=50, random_state=42)\n",
    "model.fit(X_train, y_train)\n",
    "\n",
    "# 5. Predict & Evaluate\n",
    "y_pred = model.predict(X_test)\n",
    "\n",
    "print(\"Accuracy:\", accuracy_score(y_test, y_pred))\n",
    "print(\"Classification Report:\\n\", classification_report(y_test, y_pred))"
   ]
  },
  {
   "cell_type": "code",
   "execution_count": null,
   "id": "dfbcec4e-0829-4f82-947e-21242f7188bd",
   "metadata": {},
   "outputs": [],
   "source": []
  }
 ],
 "metadata": {
  "kernelspec": {
   "display_name": "Python 3 (ipykernel)",
   "language": "python",
   "name": "python3"
  },
  "language_info": {
   "codemirror_mode": {
    "name": "ipython",
    "version": 3
   },
   "file_extension": ".py",
   "mimetype": "text/x-python",
   "name": "python",
   "nbconvert_exporter": "python",
   "pygments_lexer": "ipython3",
   "version": "3.11.9"
  }
 },
 "nbformat": 4,
 "nbformat_minor": 5
}
