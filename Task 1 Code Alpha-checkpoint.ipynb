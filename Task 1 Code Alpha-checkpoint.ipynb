{
 "cells": [
  {
   "cell_type": "code",
   "execution_count": 5,
   "id": "95a8ced9-84e8-4345-b720-47d6de9e4e76",
   "metadata": {},
   "outputs": [
    {
     "name": "stdout",
     "output_type": "stream",
     "text": [
      "Credit Scoring Model\n",
      "========================================\n",
      "Accuracy : 0.59\n",
      "AUC : 0.5313156788566625\n",
      "Classification Report:\n",
      "               precision    recall  f1-score   support\n",
      "\n",
      "           0       0.47      0.46      0.47        39\n",
      "           1       0.66      0.67      0.67        61\n",
      "\n",
      "    accuracy                           0.59       100\n",
      "   macro avg       0.57      0.57      0.57       100\n",
      "weighted avg       0.59      0.59      0.59       100\n",
      "\n",
      "Confusion Matrix:\n",
      " [[18 21]\n",
      " [20 41]]\n"
     ]
    }
   ],
   "source": [
    "import numpy as np\n",
    "import pandas as pd\n",
    "from sklearn.model_selection import train_test_split\n",
    "from sklearn.ensemble import RandomForestClassifier\n",
    "from sklearn.metrics import accuracy_score, confusion_matrix, roc_auc_score, classification_report\n",
    "from sklearn.preprocessing import StandardScaler, LabelEncoder\n",
    "print ('Credit Scoring Model')\n",
    "print ('='*40)\n",
    "# 2. Simulating a small financial dataset\n",
    "# Features: Income, Credit_score, Debt, Age\n",
    "# Target: Credit Rating (0 = Bad, 1 = Good)\n",
    "\n",
    "np.random.seed(42)\n",
    "\n",
    "X = pd.DataFrame({\"Income\": np.random.randint(20000, 100000, 500),\n",
    "                   \"Credit_score\": np.random.randint(300, 850, 500),\n",
    "                   \"Debt\": np.random.randint(1000, 50000, 500),\n",
    "                   \"Age\": np.random.randint(18, 70, 500)})\n",
    "y = np.random.randint(0, 2, 500)\n",
    "\n",
    "# 3. Standardize features\n",
    "scaler = StandardScaler()\n",
    "X_scaled = scaler.fit_transform(X)\n",
    "\n",
    "# 4. Split into training and testing\n",
    "X_train, X_test, y_train, y_test = train_test_split(X_scaled, y, \n",
    "                                                    test_size=0.2, \n",
    "                                                    random_state=42)\n",
    "\n",
    "# 5. Train classifier\n",
    "model = RandomForestClassifier(n_estimators=100, random_state=42)\n",
    "model.fit(X_train, y_train)\n",
    "\n",
    "# 6. Predictions\n",
    "y_pred = model.predict(X_test)\n",
    "y_prob = model.predict_proba(X_test)[:,1]\n",
    "\n",
    "# 7. Evaluation\n",
    "print(\"Accuracy :\", accuracy_score(y_test, y_pred))\n",
    "print(\"AUC :\", roc_auc_score(y_test, y_prob))\n",
    "print(\"Classification Report:\\n\", classification_report(y_test, y_pred))\n",
    "print(\"Confusion Matrix:\\n\", confusion_matrix(y_test, y_pred))\n"
   ]
  },
  {
   "cell_type": "code",
   "execution_count": null,
   "id": "e381770f-8db8-4383-93ba-ee6da6ce5d51",
   "metadata": {},
   "outputs": [],
   "source": []
  },
  {
   "cell_type": "code",
   "execution_count": null,
   "id": "639b05f5-1791-4bf4-a11f-4dd8322f5a81",
   "metadata": {},
   "outputs": [],
   "source": []
  },
  {
   "cell_type": "code",
   "execution_count": null,
   "id": "9ae9e98a-d6a3-40b0-8027-1a72b72a21c4",
   "metadata": {},
   "outputs": [],
   "source": []
  }
 ],
 "metadata": {
  "kernelspec": {
   "display_name": "Python 3 (ipykernel)",
   "language": "python",
   "name": "python3"
  },
  "language_info": {
   "codemirror_mode": {
    "name": "ipython",
    "version": 3
   },
   "file_extension": ".py",
   "mimetype": "text/x-python",
   "name": "python",
   "nbconvert_exporter": "python",
   "pygments_lexer": "ipython3",
   "version": "3.11.9"
  }
 },
 "nbformat": 4,
 "nbformat_minor": 5
}
